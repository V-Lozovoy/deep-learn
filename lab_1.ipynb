{
  "nbformat": 4,
  "nbformat_minor": 0,
  "metadata": {
    "colab": {
      "provenance": [],
      "authorship_tag": "ABX9TyPhH2gBo9NxnDOLOh5mxROQ",
      "include_colab_link": true
    },
    "kernelspec": {
      "name": "python3",
      "display_name": "Python 3"
    },
    "language_info": {
      "name": "python"
    }
  },
  "cells": [
    {
      "cell_type": "markdown",
      "metadata": {
        "id": "view-in-github",
        "colab_type": "text"
      },
      "source": [
        "<a href=\"https://colab.research.google.com/github/V-Lozovoy/deep-learn/blob/main/lab_1.ipynb\" target=\"_parent\"><img src=\"https://colab.research.google.com/assets/colab-badge.svg\" alt=\"Open In Colab\"/></a>"
      ]
    },
    {
      "cell_type": "code",
      "execution_count": null,
      "metadata": {
        "colab": {
          "base_uri": "https://localhost:8080/"
        },
        "id": "l9y1fpNtHSrG",
        "outputId": "1618b193-976a-479f-b7c4-f8d25037366a"
      },
      "outputs": [
        {
          "output_type": "stream",
          "name": "stdout",
          "text": [
            "Mounted at /content/drive\n"
          ]
        }
      ],
      "source": [
        "# from google.colab import drive\n",
        "# drive.mount('/content/drive')\n",
        "\n",
        "import tensorflow as tf\n",
        "import numpy as np\n",
        "import pandas as pd\n",
        "import matplotlib.pyplot as plt\n",
        "from datetime import datetime\n",
        "\n",
        "# Генерація випадкових значень\n",
        "np.random.seed(42)\n",
        "x = np.random.uniform(-1, 1, 1500)\n",
        "y = np.random.uniform(1.5, 4.5, 1500)\n",
        "\n",
        "# Обчислюємо функцію F1(x, y) = x^3 + 2x^2y − y^3\n",
        "@tf.function\n",
        "def calculate_f1(x, y):\n",
        "  return tf.pow(x, 3) + 2 * pow(x, 2) * y - tf.pow(y, 3)\n",
        "\n",
        "result = calculate_f1(x, y)\n",
        "\n",
        "# Внесення обчислень у TensorBoard\n",
        "with writer.as_default():\n",
        "  tf.summary.scalar(\"F1(x, y)\", tf.reduce_mean(result), step = 0)\n",
        "\n",
        "# Створюємо датасет\n",
        "data = pd.DataFrame({\"x\": x, \"y\": y, \"F1(x, y)\": result.numpy()})\n",
        "\n",
        "# Зберігаємо навчальну вибірку у файл .csv\n",
        "csv_path = \"/content/drive/My Drive/tensorflow_dataset.csv\"\n",
        "data.to_csv(csv_path, index=False)\n",
        "print(f\"Навчальну вибірку збережено у файл {csv_path}\")\n",
        "\n",
        "# Візуалізація даних\n",
        "plt.scatter(x, y, c=result, cmap=\"viridis\")\n",
        "plt.colorbar(label='F1(x, y)')\n",
        "plt.xlabel('x')\n",
        "plt.ylabel('y')\n",
        "plt.title('Візуалізація функції F1(x, y) (Варіант 2)')\n",
        "plt.show()\n",
        "\n",
        "# Налаштування логів для TensorBoard\n",
        "log_dir = \"logs/\" + datetime.now().strftime(\"%Y%m%d-%H%M%S\")\n",
        "writer = tf.summary.create_file_writer(log_dir)\n",
        "\n",
        "%load_ext tensorboard\n",
        "%tensorboard --logdir logs/"
      ]
    }
  ]
}